{
 "cells": [
  {
   "cell_type": "code",
   "execution_count": 4,
   "metadata": {},
   "outputs": [],
   "source": [
    "import torch\n",
    "import torch.nn as nn\n",
    "import torch.optim as optim\n",
    "import pandas as pd\n",
    "from sklearn.model_selection import train_test_split\n",
    "from GenerationModule import generation\n",
    "from sklearn.preprocessing import StandardScaler\n",
    "from torch.utils.data import TensorDataset, DataLoader\n",
    "\n",
    "excel_file = 'PID&SI.xlsx'\n",
    "pd_data = pd.read_excel(excel_file, sheet_name='PDs')\n",
    "suicide_data = pd.read_excel(excel_file, sheet_name='Suicide')\n",
    "\n",
    "assert pd_data['serial'].equals(suicide_data['serial'])\n",
    "\n",
    "X = pd_data.iloc[:, 1:26]\n",
    "y = suicide_data['SI'] \n",
    "\n",
    "X_train, X_test, y_train, y_test = train_test_split(X, y, test_size=0.2, random_state=42)\n",
    "\n",
    "X_train_tensor = torch.tensor(X_train.values, dtype=torch.float32)\n",
    "y_train_tensor = torch.tensor(y_train.values, dtype=torch.float32)\n",
    "X_test_tensor = torch.tensor(X_test.values, dtype=torch.float32)\n",
    "y_test_tensor = torch.tensor(y_test.values, dtype=torch.float32)\n",
    "\n",
    "class SuicideRiskMLP(nn.Module):\n",
    "    def __init__(self):\n",
    "        super(SuicideRiskMLP, self).__init__()\n",
    "        self.fc1 = nn.Linear(25, 25)\n",
    "        self.fc2 = nn.Linear(25, 14)\n",
    "        self.relu = nn.ReLU()\n",
    "\n",
    "    def forward(self, x):\n",
    "        x = self.relu(self.fc1(x))\n",
    "        x = self.fc2(x) \n",
    "        return x"
   ]
  },
  {
   "cell_type": "code",
   "execution_count": 13,
   "metadata": {},
   "outputs": [
    {
     "name": "stdout",
     "output_type": "stream",
     "text": [
      "tensor(100., grad_fn=<BinaryCrossEntropyBackward0>)\n",
      "None\n",
      "None\n",
      "tensor(0., grad_fn=<BinaryCrossEntropyBackward0>)\n",
      "None\n",
      "None\n",
      "tensor(100., grad_fn=<BinaryCrossEntropyBackward0>)\n",
      "None\n",
      "None\n",
      "tensor(0., grad_fn=<BinaryCrossEntropyBackward0>)\n",
      "None\n",
      "None\n",
      "tensor(100., grad_fn=<BinaryCrossEntropyBackward0>)\n",
      "None\n",
      "None\n"
     ]
    },
    {
     "name": "stderr",
     "output_type": "stream",
     "text": [
      "C:\\Users\\lilin\\AppData\\Local\\Temp\\ipykernel_816\\3100050136.py:39: UserWarning: The .grad attribute of a Tensor that is not a leaf Tensor is being accessed. Its .grad attribute won't be populated during autograd.backward(). If you indeed want the .grad field to be populated for a non-leaf Tensor, use .retain_grad() on the non-leaf Tensor. If you access the non-leaf Tensor by mistake, make sure you access the leaf Tensor instead. See github.com/pytorch/pytorch/pull/30531 for more informations. (Triggered internally at aten\\src\\ATen/core/TensorBody.h:494.)\n",
      "  print(pred_result.grad)\n",
      "C:\\Users\\lilin\\AppData\\Local\\Temp\\ipykernel_816\\3100050136.py:40: UserWarning: The .grad attribute of a Tensor that is not a leaf Tensor is being accessed. Its .grad attribute won't be populated during autograd.backward(). If you indeed want the .grad field to be populated for a non-leaf Tensor, use .retain_grad() on the non-leaf Tensor. If you access the non-leaf Tensor by mistake, make sure you access the leaf Tensor instead. See github.com/pytorch/pytorch/pull/30531 for more informations. (Triggered internally at aten\\src\\ATen/core/TensorBody.h:494.)\n",
      "  print(params.grad)\n"
     ]
    }
   ],
   "source": [
    "class SurrogateGeneration(torch.autograd.Function):\n",
    "    @staticmethod\n",
    "    def forward(ctx, params):\n",
    "\n",
    "        with torch.no_grad():\n",
    "            output = generation(params)\n",
    "        ctx.save_for_backward(params)\n",
    "        return output\n",
    "\n",
    "    @staticmethod\n",
    "    def backward(ctx, grad_output):\n",
    "\n",
    "        params, = ctx.saved_tensors\n",
    "\n",
    "        grad_params = grad_output * torch.ones_like(params)\n",
    "        return grad_params\n",
    "\n",
    "\n",
    "model2 = SuicideRiskMLP()\n",
    "criterion = nn.BCELoss()\n",
    "optimizer = optim.Adam(model2.parameters(), lr=0.01)\n",
    "num_epochs = 100\n",
    "\n",
    "for epoch in range(num_epochs):\n",
    "    model2.train()\n",
    "    optimizer.zero_grad()\n",
    "\n",
    "    for i in range(5):\n",
    "        input = X_train_tensor[i]\n",
    "        label = y_train_tensor[i]\n",
    "\n",
    "        params = model2(input)\n",
    "        pred_result = SurrogateGeneration.apply(params)\n",
    "        loss = criterion(pred_result, label)\n",
    "        loss.backward()\n",
    "        optimizer.step()\n",
    "\n",
    "        print(loss)\n",
    "        print(pred_result.grad)\n",
    "        print(params.grad)\n",
    "\n",
    "       \n",
    "    break\n"
   ]
  }
 ],
 "metadata": {
  "kernelspec": {
   "display_name": "base",
   "language": "python",
   "name": "python3"
  },
  "language_info": {
   "codemirror_mode": {
    "name": "ipython",
    "version": 3
   },
   "file_extension": ".py",
   "mimetype": "text/x-python",
   "name": "python",
   "nbconvert_exporter": "python",
   "pygments_lexer": "ipython3",
   "version": "3.11.4"
  }
 },
 "nbformat": 4,
 "nbformat_minor": 2
}
